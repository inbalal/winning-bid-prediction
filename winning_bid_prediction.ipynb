{
 "cells": [
  {
   "cell_type": "code",
   "execution_count": 1,
   "metadata": {},
   "outputs": [],
   "source": [
    "import pandas as pd\n",
    "import matplotlib.pyplot as plt\n",
    "import seaborn as sns"
   ]
  },
  {
   "attachments": {},
   "cell_type": "markdown",
   "metadata": {},
   "source": [
    "# EDA"
   ]
  },
  {
   "cell_type": "code",
   "execution_count": 2,
   "metadata": {},
   "outputs": [
    {
     "data": {
      "text/html": [
       "<div>\n",
       "<style scoped>\n",
       "    .dataframe tbody tr th:only-of-type {\n",
       "        vertical-align: middle;\n",
       "    }\n",
       "\n",
       "    .dataframe tbody tr th {\n",
       "        vertical-align: top;\n",
       "    }\n",
       "\n",
       "    .dataframe thead th {\n",
       "        text-align: right;\n",
       "    }\n",
       "</style>\n",
       "<table border=\"1\" class=\"dataframe\">\n",
       "  <thead>\n",
       "    <tr style=\"text-align: right;\">\n",
       "      <th></th>\n",
       "      <th>eventTimestamp</th>\n",
       "      <th>unitDisplayType</th>\n",
       "      <th>brandName</th>\n",
       "      <th>bundleId</th>\n",
       "      <th>appVersion</th>\n",
       "      <th>correctModelName</th>\n",
       "      <th>countryCode</th>\n",
       "      <th>deviceId</th>\n",
       "      <th>osAndVersion</th>\n",
       "      <th>connectionType</th>\n",
       "      <th>c1</th>\n",
       "      <th>c2</th>\n",
       "      <th>c3</th>\n",
       "      <th>c4</th>\n",
       "      <th>size</th>\n",
       "      <th>mediationProviderVersion</th>\n",
       "      <th>bidFloorPrice</th>\n",
       "      <th>sentPrice</th>\n",
       "      <th>winBid</th>\n",
       "      <th>has_won</th>\n",
       "    </tr>\n",
       "  </thead>\n",
       "  <tbody>\n",
       "    <tr>\n",
       "      <th>6643193</th>\n",
       "      <td>1657571649847</td>\n",
       "      <td>banner</td>\n",
       "      <td>Generic</td>\n",
       "      <td>com.loop.match3d</td>\n",
       "      <td>1245.35.0</td>\n",
       "      <td>Android 4.0</td>\n",
       "      <td>US</td>\n",
       "      <td>804bd06b1c8</td>\n",
       "      <td>Android-4.0</td>\n",
       "      <td>3G</td>\n",
       "      <td>7d3</td>\n",
       "      <td>7.0</td>\n",
       "      <td>6b</td>\n",
       "      <td>8.0</td>\n",
       "      <td>320x50</td>\n",
       "      <td>11.4.3</td>\n",
       "      <td>0.01</td>\n",
       "      <td>0.03</td>\n",
       "      <td>2.39</td>\n",
       "      <td>0</td>\n",
       "    </tr>\n",
       "    <tr>\n",
       "      <th>33061</th>\n",
       "      <td>1657462598238</td>\n",
       "      <td>rewarded</td>\n",
       "      <td>Samsung</td>\n",
       "      <td>com.loop.match3d</td>\n",
       "      <td>1245.35.0</td>\n",
       "      <td>SM-T820</td>\n",
       "      <td>FR</td>\n",
       "      <td>745e9c2df5d</td>\n",
       "      <td>Android-9.0</td>\n",
       "      <td>WIFI</td>\n",
       "      <td>7b8</td>\n",
       "      <td>6.0</td>\n",
       "      <td>6b</td>\n",
       "      <td>4.0</td>\n",
       "      <td>768x1024</td>\n",
       "      <td>11.4.3</td>\n",
       "      <td>0.01</td>\n",
       "      <td>0.25</td>\n",
       "      <td>0.74</td>\n",
       "      <td>0</td>\n",
       "    </tr>\n",
       "    <tr>\n",
       "      <th>2906029</th>\n",
       "      <td>1657748052297</td>\n",
       "      <td>banner</td>\n",
       "      <td>Generic</td>\n",
       "      <td>com.loop.match3d</td>\n",
       "      <td>1245.35.0</td>\n",
       "      <td>Android 4.0</td>\n",
       "      <td>US</td>\n",
       "      <td>80c8461adf6</td>\n",
       "      <td>Android-4.0</td>\n",
       "      <td>3G</td>\n",
       "      <td>7d3</td>\n",
       "      <td>2.0</td>\n",
       "      <td>6b</td>\n",
       "      <td>8.0</td>\n",
       "      <td>320x50</td>\n",
       "      <td>11.4.3</td>\n",
       "      <td>0.10</td>\n",
       "      <td>0.10</td>\n",
       "      <td>1.48</td>\n",
       "      <td>0</td>\n",
       "    </tr>\n",
       "    <tr>\n",
       "      <th>2423626</th>\n",
       "      <td>1656998711579</td>\n",
       "      <td>banner</td>\n",
       "      <td>Samsung</td>\n",
       "      <td>com.loop.match3d</td>\n",
       "      <td>1245.35.0</td>\n",
       "      <td>SM-J810Y</td>\n",
       "      <td>AU</td>\n",
       "      <td>74bca358cee</td>\n",
       "      <td>Android-9.0</td>\n",
       "      <td>3G</td>\n",
       "      <td>7d3</td>\n",
       "      <td>4.0</td>\n",
       "      <td>6b</td>\n",
       "      <td>2.0</td>\n",
       "      <td>320x50</td>\n",
       "      <td>11.4.3</td>\n",
       "      <td>0.01</td>\n",
       "      <td>1.10</td>\n",
       "      <td>5.33</td>\n",
       "      <td>0</td>\n",
       "    </tr>\n",
       "    <tr>\n",
       "      <th>6779460</th>\n",
       "      <td>1657323877689</td>\n",
       "      <td>rewarded</td>\n",
       "      <td>Motorola</td>\n",
       "      <td>com.loop.match3d</td>\n",
       "      <td>1245.35.0</td>\n",
       "      <td>Moto G9 Play</td>\n",
       "      <td>MX</td>\n",
       "      <td>6a43e855d24</td>\n",
       "      <td>Android-11.0</td>\n",
       "      <td>WIFI</td>\n",
       "      <td>7b8</td>\n",
       "      <td>1.0</td>\n",
       "      <td>6b</td>\n",
       "      <td>5.0</td>\n",
       "      <td>320x480</td>\n",
       "      <td>11.4.3</td>\n",
       "      <td>0.01</td>\n",
       "      <td>0.72</td>\n",
       "      <td>2.12</td>\n",
       "      <td>0</td>\n",
       "    </tr>\n",
       "  </tbody>\n",
       "</table>\n",
       "</div>"
      ],
      "text/plain": [
       "         eventTimestamp unitDisplayType brandName          bundleId  \\\n",
       "6643193   1657571649847          banner   Generic  com.loop.match3d   \n",
       "33061     1657462598238        rewarded   Samsung  com.loop.match3d   \n",
       "2906029   1657748052297          banner   Generic  com.loop.match3d   \n",
       "2423626   1656998711579          banner   Samsung  com.loop.match3d   \n",
       "6779460   1657323877689        rewarded  Motorola  com.loop.match3d   \n",
       "\n",
       "        appVersion correctModelName countryCode     deviceId  osAndVersion  \\\n",
       "6643193  1245.35.0      Android 4.0          US  804bd06b1c8   Android-4.0   \n",
       "33061    1245.35.0          SM-T820          FR  745e9c2df5d   Android-9.0   \n",
       "2906029  1245.35.0      Android 4.0          US  80c8461adf6   Android-4.0   \n",
       "2423626  1245.35.0         SM-J810Y          AU  74bca358cee   Android-9.0   \n",
       "6779460  1245.35.0     Moto G9 Play          MX  6a43e855d24  Android-11.0   \n",
       "\n",
       "        connectionType   c1   c2  c3   c4      size mediationProviderVersion  \\\n",
       "6643193             3G  7d3  7.0  6b  8.0    320x50                   11.4.3   \n",
       "33061             WIFI  7b8  6.0  6b  4.0  768x1024                   11.4.3   \n",
       "2906029             3G  7d3  2.0  6b  8.0    320x50                   11.4.3   \n",
       "2423626             3G  7d3  4.0  6b  2.0    320x50                   11.4.3   \n",
       "6779460           WIFI  7b8  1.0  6b  5.0   320x480                   11.4.3   \n",
       "\n",
       "         bidFloorPrice  sentPrice  winBid  has_won  \n",
       "6643193           0.01       0.03    2.39        0  \n",
       "33061             0.01       0.25    0.74        0  \n",
       "2906029           0.10       0.10    1.48        0  \n",
       "2423626           0.01       1.10    5.33        0  \n",
       "6779460           0.01       0.72    2.12        0  "
      ]
     },
     "execution_count": 2,
     "metadata": {},
     "output_type": "execute_result"
    }
   ],
   "source": [
    "## load the data\n",
    "train_path = r\"data\\train_data.csv\"\n",
    "train_df = pd.read_csv(train_path)\n",
    "train_df = train_df.sample(n=10000)\n",
    "train_df.head()"
   ]
  },
  {
   "cell_type": "code",
   "execution_count": 3,
   "metadata": {},
   "outputs": [
    {
     "data": {
      "text/html": [
       "<div>\n",
       "<style scoped>\n",
       "    .dataframe tbody tr th:only-of-type {\n",
       "        vertical-align: middle;\n",
       "    }\n",
       "\n",
       "    .dataframe tbody tr th {\n",
       "        vertical-align: top;\n",
       "    }\n",
       "\n",
       "    .dataframe thead th {\n",
       "        text-align: right;\n",
       "    }\n",
       "</style>\n",
       "<table border=\"1\" class=\"dataframe\">\n",
       "  <thead>\n",
       "    <tr style=\"text-align: right;\">\n",
       "      <th></th>\n",
       "      <th>eventTimestamp</th>\n",
       "      <th>unitDisplayType</th>\n",
       "      <th>brandName</th>\n",
       "      <th>bundleId</th>\n",
       "      <th>appVersion</th>\n",
       "      <th>correctModelName</th>\n",
       "      <th>countryCode</th>\n",
       "      <th>deviceId</th>\n",
       "      <th>osAndVersion</th>\n",
       "      <th>connectionType</th>\n",
       "      <th>c1</th>\n",
       "      <th>c2</th>\n",
       "      <th>c3</th>\n",
       "      <th>c4</th>\n",
       "      <th>size</th>\n",
       "      <th>mediationProviderVersion</th>\n",
       "      <th>bidFloorPrice</th>\n",
       "      <th>sentPrice</th>\n",
       "      <th>winBid</th>\n",
       "      <th>has_won</th>\n",
       "    </tr>\n",
       "  </thead>\n",
       "  <tbody>\n",
       "  </tbody>\n",
       "</table>\n",
       "</div>"
      ],
      "text/plain": [
       "Empty DataFrame\n",
       "Columns: [eventTimestamp, unitDisplayType, brandName, bundleId, appVersion, correctModelName, countryCode, deviceId, osAndVersion, connectionType, c1, c2, c3, c4, size, mediationProviderVersion, bidFloorPrice, sentPrice, winBid, has_won]\n",
       "Index: []"
      ]
     },
     "execution_count": 3,
     "metadata": {},
     "output_type": "execute_result"
    }
   ],
   "source": [
    "## check for duplicate rows\n",
    "\n",
    "train_df[train_df.duplicated()]"
   ]
  },
  {
   "cell_type": "code",
   "execution_count": 4,
   "metadata": {},
   "outputs": [
    {
     "data": {
      "text/html": [
       "<div>\n",
       "<style scoped>\n",
       "    .dataframe tbody tr th:only-of-type {\n",
       "        vertical-align: middle;\n",
       "    }\n",
       "\n",
       "    .dataframe tbody tr th {\n",
       "        vertical-align: top;\n",
       "    }\n",
       "\n",
       "    .dataframe thead th {\n",
       "        text-align: right;\n",
       "    }\n",
       "</style>\n",
       "<table border=\"1\" class=\"dataframe\">\n",
       "  <thead>\n",
       "    <tr style=\"text-align: right;\">\n",
       "      <th></th>\n",
       "      <th>eventTimestamp</th>\n",
       "      <th>c2</th>\n",
       "      <th>c4</th>\n",
       "      <th>bidFloorPrice</th>\n",
       "      <th>sentPrice</th>\n",
       "      <th>winBid</th>\n",
       "      <th>has_won</th>\n",
       "    </tr>\n",
       "  </thead>\n",
       "  <tbody>\n",
       "    <tr>\n",
       "      <th>count</th>\n",
       "      <td>10000.00</td>\n",
       "      <td>10000.00</td>\n",
       "      <td>10000.00</td>\n",
       "      <td>10000.00</td>\n",
       "      <td>10000.00</td>\n",
       "      <td>10000.00</td>\n",
       "      <td>10000.00</td>\n",
       "    </tr>\n",
       "    <tr>\n",
       "      <th>mean</th>\n",
       "      <td>1657040423625.89</td>\n",
       "      <td>5.02</td>\n",
       "      <td>4.99</td>\n",
       "      <td>0.02</td>\n",
       "      <td>0.58</td>\n",
       "      <td>4.14</td>\n",
       "      <td>0.11</td>\n",
       "    </tr>\n",
       "    <tr>\n",
       "      <th>std</th>\n",
       "      <td>398454248.04</td>\n",
       "      <td>2.35</td>\n",
       "      <td>2.33</td>\n",
       "      <td>0.11</td>\n",
       "      <td>3.74</td>\n",
       "      <td>19.11</td>\n",
       "      <td>0.32</td>\n",
       "    </tr>\n",
       "    <tr>\n",
       "      <th>min</th>\n",
       "      <td>1656290219538.00</td>\n",
       "      <td>1.00</td>\n",
       "      <td>1.00</td>\n",
       "      <td>0.01</td>\n",
       "      <td>0.01</td>\n",
       "      <td>0.01</td>\n",
       "      <td>0.00</td>\n",
       "    </tr>\n",
       "    <tr>\n",
       "      <th>25%</th>\n",
       "      <td>1656699321131.75</td>\n",
       "      <td>3.00</td>\n",
       "      <td>3.00</td>\n",
       "      <td>0.01</td>\n",
       "      <td>0.02</td>\n",
       "      <td>0.09</td>\n",
       "      <td>0.00</td>\n",
       "    </tr>\n",
       "    <tr>\n",
       "      <th>50%</th>\n",
       "      <td>1657037914512.50</td>\n",
       "      <td>5.00</td>\n",
       "      <td>5.00</td>\n",
       "      <td>0.01</td>\n",
       "      <td>0.04</td>\n",
       "      <td>0.51</td>\n",
       "      <td>0.00</td>\n",
       "    </tr>\n",
       "    <tr>\n",
       "      <th>75%</th>\n",
       "      <td>1657386342942.25</td>\n",
       "      <td>7.00</td>\n",
       "      <td>7.00</td>\n",
       "      <td>0.01</td>\n",
       "      <td>0.18</td>\n",
       "      <td>1.59</td>\n",
       "      <td>0.00</td>\n",
       "    </tr>\n",
       "    <tr>\n",
       "      <th>max</th>\n",
       "      <td>1657758370448.00</td>\n",
       "      <td>9.00</td>\n",
       "      <td>9.00</td>\n",
       "      <td>5.00</td>\n",
       "      <td>255.00</td>\n",
       "      <td>518.89</td>\n",
       "      <td>1.00</td>\n",
       "    </tr>\n",
       "  </tbody>\n",
       "</table>\n",
       "</div>"
      ],
      "text/plain": [
       "        eventTimestamp       c2       c4  bidFloorPrice  sentPrice   winBid  \\\n",
       "count         10000.00 10000.00 10000.00       10000.00   10000.00 10000.00   \n",
       "mean  1657040423625.89     5.02     4.99           0.02       0.58     4.14   \n",
       "std       398454248.04     2.35     2.33           0.11       3.74    19.11   \n",
       "min   1656290219538.00     1.00     1.00           0.01       0.01     0.01   \n",
       "25%   1656699321131.75     3.00     3.00           0.01       0.02     0.09   \n",
       "50%   1657037914512.50     5.00     5.00           0.01       0.04     0.51   \n",
       "75%   1657386342942.25     7.00     7.00           0.01       0.18     1.59   \n",
       "max   1657758370448.00     9.00     9.00           5.00     255.00   518.89   \n",
       "\n",
       "       has_won  \n",
       "count 10000.00  \n",
       "mean      0.11  \n",
       "std       0.32  \n",
       "min       0.00  \n",
       "25%       0.00  \n",
       "50%       0.00  \n",
       "75%       0.00  \n",
       "max       1.00  "
      ]
     },
     "execution_count": 4,
     "metadata": {},
     "output_type": "execute_result"
    }
   ],
   "source": [
    "pd.set_option('display.float_format', lambda x: '%.2f' % x)\n",
    "train_df.describe()"
   ]
  },
  {
   "cell_type": "code",
   "execution_count": 5,
   "metadata": {},
   "outputs": [
    {
     "data": {
      "text/plain": [
       "0.4494"
      ]
     },
     "execution_count": 5,
     "metadata": {},
     "output_type": "execute_result"
    }
   ],
   "source": [
    "train_df.deviceId.nunique() / len(train_df)"
   ]
  },
  {
   "cell_type": "code",
   "execution_count": 6,
   "metadata": {},
   "outputs": [
    {
     "data": {
      "text/plain": [
       "320x50      6986\n",
       "320x480     1959\n",
       "728x90       829\n",
       "768x1024     219\n",
       "480x320        4\n",
       "1024x768       3\n",
       "Name: size, dtype: int64"
      ]
     },
     "execution_count": 6,
     "metadata": {},
     "output_type": "execute_result"
    }
   ],
   "source": [
    "train_df['size'].value_counts()"
   ]
  },
  {
   "cell_type": "code",
   "execution_count": 7,
   "metadata": {},
   "outputs": [
    {
     "data": {
      "text/plain": [
       "518.8297060300007"
      ]
     },
     "execution_count": 7,
     "metadata": {},
     "output_type": "execute_result"
    }
   ],
   "source": [
    "train_df.winBid.quantile(0.999999)"
   ]
  },
  {
   "cell_type": "code",
   "execution_count": 8,
   "metadata": {},
   "outputs": [
    {
     "data": {
      "text/html": [
       "<div>\n",
       "<style scoped>\n",
       "    .dataframe tbody tr th:only-of-type {\n",
       "        vertical-align: middle;\n",
       "    }\n",
       "\n",
       "    .dataframe tbody tr th {\n",
       "        vertical-align: top;\n",
       "    }\n",
       "\n",
       "    .dataframe thead th {\n",
       "        text-align: right;\n",
       "    }\n",
       "</style>\n",
       "<table border=\"1\" class=\"dataframe\">\n",
       "  <thead>\n",
       "    <tr style=\"text-align: right;\">\n",
       "      <th></th>\n",
       "      <th>counts</th>\n",
       "      <th>percentage</th>\n",
       "    </tr>\n",
       "  </thead>\n",
       "  <tbody>\n",
       "    <tr>\n",
       "      <th>eventTimestamp</th>\n",
       "      <td>0</td>\n",
       "      <td>0.00</td>\n",
       "    </tr>\n",
       "    <tr>\n",
       "      <th>unitDisplayType</th>\n",
       "      <td>0</td>\n",
       "      <td>0.00</td>\n",
       "    </tr>\n",
       "    <tr>\n",
       "      <th>brandName</th>\n",
       "      <td>0</td>\n",
       "      <td>0.00</td>\n",
       "    </tr>\n",
       "    <tr>\n",
       "      <th>bundleId</th>\n",
       "      <td>0</td>\n",
       "      <td>0.00</td>\n",
       "    </tr>\n",
       "    <tr>\n",
       "      <th>appVersion</th>\n",
       "      <td>0</td>\n",
       "      <td>0.00</td>\n",
       "    </tr>\n",
       "    <tr>\n",
       "      <th>correctModelName</th>\n",
       "      <td>0</td>\n",
       "      <td>0.00</td>\n",
       "    </tr>\n",
       "    <tr>\n",
       "      <th>countryCode</th>\n",
       "      <td>0</td>\n",
       "      <td>0.00</td>\n",
       "    </tr>\n",
       "    <tr>\n",
       "      <th>deviceId</th>\n",
       "      <td>0</td>\n",
       "      <td>0.00</td>\n",
       "    </tr>\n",
       "    <tr>\n",
       "      <th>osAndVersion</th>\n",
       "      <td>0</td>\n",
       "      <td>0.00</td>\n",
       "    </tr>\n",
       "    <tr>\n",
       "      <th>connectionType</th>\n",
       "      <td>0</td>\n",
       "      <td>0.00</td>\n",
       "    </tr>\n",
       "    <tr>\n",
       "      <th>c1</th>\n",
       "      <td>0</td>\n",
       "      <td>0.00</td>\n",
       "    </tr>\n",
       "    <tr>\n",
       "      <th>c2</th>\n",
       "      <td>0</td>\n",
       "      <td>0.00</td>\n",
       "    </tr>\n",
       "    <tr>\n",
       "      <th>c3</th>\n",
       "      <td>0</td>\n",
       "      <td>0.00</td>\n",
       "    </tr>\n",
       "    <tr>\n",
       "      <th>c4</th>\n",
       "      <td>0</td>\n",
       "      <td>0.00</td>\n",
       "    </tr>\n",
       "    <tr>\n",
       "      <th>size</th>\n",
       "      <td>0</td>\n",
       "      <td>0.00</td>\n",
       "    </tr>\n",
       "    <tr>\n",
       "      <th>mediationProviderVersion</th>\n",
       "      <td>0</td>\n",
       "      <td>0.00</td>\n",
       "    </tr>\n",
       "    <tr>\n",
       "      <th>bidFloorPrice</th>\n",
       "      <td>0</td>\n",
       "      <td>0.00</td>\n",
       "    </tr>\n",
       "    <tr>\n",
       "      <th>sentPrice</th>\n",
       "      <td>0</td>\n",
       "      <td>0.00</td>\n",
       "    </tr>\n",
       "    <tr>\n",
       "      <th>winBid</th>\n",
       "      <td>0</td>\n",
       "      <td>0.00</td>\n",
       "    </tr>\n",
       "    <tr>\n",
       "      <th>has_won</th>\n",
       "      <td>0</td>\n",
       "      <td>0.00</td>\n",
       "    </tr>\n",
       "  </tbody>\n",
       "</table>\n",
       "</div>"
      ],
      "text/plain": [
       "                          counts  percentage\n",
       "eventTimestamp                 0        0.00\n",
       "unitDisplayType                0        0.00\n",
       "brandName                      0        0.00\n",
       "bundleId                       0        0.00\n",
       "appVersion                     0        0.00\n",
       "correctModelName               0        0.00\n",
       "countryCode                    0        0.00\n",
       "deviceId                       0        0.00\n",
       "osAndVersion                   0        0.00\n",
       "connectionType                 0        0.00\n",
       "c1                             0        0.00\n",
       "c2                             0        0.00\n",
       "c3                             0        0.00\n",
       "c4                             0        0.00\n",
       "size                           0        0.00\n",
       "mediationProviderVersion       0        0.00\n",
       "bidFloorPrice                  0        0.00\n",
       "sentPrice                      0        0.00\n",
       "winBid                         0        0.00\n",
       "has_won                        0        0.00"
      ]
     },
     "execution_count": 8,
     "metadata": {},
     "output_type": "execute_result"
    }
   ],
   "source": [
    "## % of missing values\n",
    "null_counts = train_df.isnull().sum()\n",
    "null_df = pd.DataFrame(data={'counts': null_counts, 'percentage': null_counts / len(train_df)})\n",
    "null_df"
   ]
  },
  {
   "cell_type": "code",
   "execution_count": 9,
   "metadata": {},
   "outputs": [
    {
     "data": {
      "text/plain": [
       "nan"
      ]
     },
     "execution_count": 9,
     "metadata": {},
     "output_type": "execute_result"
    }
   ],
   "source": [
    "train_df[train_df['connectionType'].isnull()]['winBid'].mean()"
   ]
  },
  {
   "cell_type": "code",
   "execution_count": 10,
   "metadata": {},
   "outputs": [
    {
     "data": {
      "text/plain": [
       "nan"
      ]
     },
     "execution_count": 10,
     "metadata": {},
     "output_type": "execute_result"
    }
   ],
   "source": [
    "train_df[train_df['countryCode'].isnull()]['winBid'].mean()"
   ]
  },
  {
   "cell_type": "code",
   "execution_count": 11,
   "metadata": {},
   "outputs": [
    {
     "data": {
      "text/plain": [
       "['eventTimestamp',\n",
       " 'unitDisplayType',\n",
       " 'brandName',\n",
       " 'bundleId',\n",
       " 'appVersion',\n",
       " 'correctModelName',\n",
       " 'countryCode',\n",
       " 'deviceId',\n",
       " 'osAndVersion',\n",
       " 'connectionType',\n",
       " 'c1',\n",
       " 'c2',\n",
       " 'c3',\n",
       " 'c4',\n",
       " 'size',\n",
       " 'mediationProviderVersion',\n",
       " 'bidFloorPrice',\n",
       " 'sentPrice',\n",
       " 'winBid',\n",
       " 'has_won']"
      ]
     },
     "execution_count": 11,
     "metadata": {},
     "output_type": "execute_result"
    }
   ],
   "source": [
    "list(train_df.columns)"
   ]
  },
  {
   "attachments": {},
   "cell_type": "markdown",
   "metadata": {},
   "source": [
    "### Numeric features"
   ]
  },
  {
   "cell_type": "code",
   "execution_count": 12,
   "metadata": {},
   "outputs": [
    {
     "name": "stderr",
     "output_type": "stream",
     "text": [
      "C:\\Users\\inbal\\AppData\\Local\\Temp\\ipykernel_22056\\2979328035.py:4: FutureWarning: The default value of numeric_only in DataFrame.corr is deprecated. In a future version, it will default to False. Select only valid columns or specify the value of numeric_only to silence this warning.\n",
      "  sns.heatmap((train_df.drop(['eventTimestamp', 'has_won', 'sentPrice'], axis=1)).corr(), annot=True, cmap='coolwarm')\n"
     ]
    },
    {
     "data": {
      "image/png": "[encoded data removed]",
      "text/plain": [
       "<Figure size 500x400 with 2 Axes>"
      ]
     },
     "metadata": {},
     "output_type": "display_data"
    }
   ],
   "source": [
    "## checking for correlations between numerical columns including the target\n",
    "\n",
    "plt.figure(figsize=(5, 4))\n",
    "sns.heatmap((train_df.drop(['eventTimestamp', 'has_won', 'sentPrice'], axis=1)).corr(), annot=True, cmap='coolwarm')\n",
    "plt.title('Correlations Heatmap')\n",
    "plt.show()"
   ]
  },
  {
   "attachments": {},
   "cell_type": "markdown",
   "metadata": {},
   "source": [
    "### Categorical features"
   ]
  },
  {
   "cell_type": "code",
   "execution_count": 13,
   "metadata": {},
   "outputs": [
    {
     "data": {
      "image/png": "[encoded data removed]",
      "text/plain": [
       "<Figure size 500x300 with 1 Axes>"
      ]
     },
     "metadata": {},
     "output_type": "display_data"
    },
    {
     "data": {
      "image/png": "[encoded data removed]",
      "text/plain": [
       "<Figure size 500x300 with 1 Axes>"
      ]
     },
     "metadata": {},
     "output_type": "display_data"
    }
   ],
   "source": [
    "## explore time-related features\n",
    "\n",
    "train_df['datetime'] = pd.to_datetime(train_df['eventTimestamp'], unit='ms')\n",
    "train_df['hour'] = train_df['datetime'].dt.hour.astype(str)\n",
    "train_df['day_of_week'] = train_df['datetime'].dt.day_name()\n",
    "\n",
    "\n",
    "# Hour of day\n",
    "hourly_avg = train_df.groupby('hour')['winBid'].mean()\n",
    "plt.figure(figsize=(5, 3))\n",
    "hourly_avg.plot(kind='line')\n",
    "plt.title('Hourly Seasonality')\n",
    "plt.xlabel('Hour')\n",
    "plt.ylabel('Average Value')\n",
    "plt.grid(True)\n",
    "plt.show()\n",
    "\n",
    "# Day of the Week\n",
    "day_order = ['Monday', 'Tuesday', 'Wednesday', 'Thursday', 'Friday', 'Saturday', 'Sunday']\n",
    "daily_avg = train_df.groupby('day_of_week')['winBid'].mean().reindex(day_order)\n",
    "plt.figure(figsize=(5, 3))\n",
    "daily_avg.plot(kind='bar')\n",
    "plt.title('Daily Seasonality (Day of the Week)')\n",
    "plt.xlabel('Day of the Week')\n",
    "plt.ylabel('Average Value')\n",
    "plt.grid(True)\n",
    "plt.show()"
   ]
  },
  {
   "cell_type": "code",
   "execution_count": 14,
   "metadata": {},
   "outputs": [],
   "source": [
    "# # Visualize the distribution of a numerical column\n",
    "# plt.figure(figsize=(10, 6))\n",
    "# sns.histplot(data=train_df, x='numerical_column')\n",
    "# plt.title('Distribution of Numerical Column')\n",
    "# plt.show()\n",
    "\n",
    "# # Visualize the relationship between two numerical columns\n",
    "# plt.figure(figsize=(10, 6))\n",
    "# sns.scatterplot(data=train_df, x='numerical_column1', y='numerical_column2')\n",
    "# plt.title('Relationship between Numerical Column 1 and Numerical Column 2')\n",
    "# plt.show()\n",
    "\n",
    "# # Visualize the relationship between a categorical column and a numerical column\n",
    "# plt.figure(figsize=(10, 6))\n",
    "# sns.boxplot(data=train_df, x='categorical_column', y='numerical_column')\n",
    "# plt.title('Categorical Column vs. Numerical Column')\n",
    "# plt.show()"
   ]
  },
  {
   "attachments": {},
   "cell_type": "markdown",
   "metadata": {},
   "source": [
    "# Data Pre-processing"
   ]
  },
  {
   "cell_type": "code",
   "execution_count": 44,
   "metadata": {},
   "outputs": [],
   "source": [
    "import numpy as np\n",
    "def preprocessing(data: pd.DataFrame, test_data: pd.DataFrame, category_coverage_threshold=0.01):\n",
    "    # combine\n",
    "    if 'has_won' in data.columns:\n",
    "        data = data.drop(columns=['has_won'])\n",
    "    train_data_len, test_data_len = len(data), len(test_data)\n",
    "    \n",
    "    data = pd.concat([data, test_data], ignore_index=True)\n",
    "\n",
    "    # drops\n",
    "    data = data.drop(columns=['sentPrice', 'deviceId'])\n",
    "\n",
    "    # imputations\n",
    "    other_category = 'other'\n",
    "    data.fillna({'countryCode': other_category, 'connectionType': other_category},inplace=True)\n",
    "\n",
    "    # feature engineering\n",
    "\n",
    "    ## convert timestamp to temporal features\n",
    "    data['datetime'] = pd.to_datetime(data['eventTimestamp'], unit='ms')\n",
    "    data['hour'] = data['datetime'].dt.hour.astype(str)\n",
    "    data['day_of_week'] = data['datetime'].dt.day_name()\n",
    "    data = data.drop(columns=['datetime', 'eventTimestamp'])\n",
    "\n",
    "    ## extract aspect ratio from the size of the ad\n",
    "    data['aspect_ratio'] = data['size'].apply(lambda s: int(s.split('x')[0]) / int(s.split('x')[1]))\n",
    "\n",
    "    ## replace infrequent categorical values\n",
    "    categorical_features_df = data.select_dtypes(include=['object', 'category'])\n",
    "    categorical_features_names = list(categorical_features_df.columns)\n",
    "\n",
    "    for feature in categorical_features_names:\n",
    "        category_counts = categorical_features_df[feature].value_counts()\n",
    "        total_count = category_counts.sum()\n",
    "        categories_to_group = category_counts[category_counts / total_count <= category_coverage_threshold].index\n",
    "        categorical_features_df.loc[categorical_features_df[feature].isin(categories_to_group), feature] = other_category\n",
    "\n",
    "    ## perform one-hot encoding\n",
    "    onehot_df = pd.get_dummies(categorical_features_df, drop_first=True)\n",
    "\n",
    "    data = data.merge(onehot_df, left_index=True, right_index=True)\n",
    "    data = data.drop(columns=categorical_features_names)\n",
    "    return data[:train_data_len], data[train_data_len:]\n",
    "\n",
    "\n",
    "def preprocess_target(data: pd.Series, winsorization_upper_quantile=0.99, apply_logscale_to_target=False):\n",
    "    data = data.clip(upper=data.quantile(winsorization_upper_quantile))\n",
    "    if apply_logscale_to_target:\n",
    "        data = np.log(data)\n",
    "    return data\n",
    "\n",
    "\n",
    "def postprocess_target(data: pd.Series, winsorization_upper_quantile=0.99, apply_logscale_to_target=False):\n",
    "    if apply_logscale_to_target:\n",
    "        data = np.exp(data)\n",
    "    return data\n",
    "\n"
   ]
  },
  {
   "cell_type": "code",
   "execution_count": 16,
   "metadata": {},
   "outputs": [],
   "source": [
    "# from sklearn.model_selection import train_test_split\n",
    "# ## load the data\n",
    "# train_path = r\"data\\train_data.csv\"\n",
    "# category_coverage_threshold = 0.01\n",
    "# test_size = 0.2\n",
    "# random_seed = 42\n",
    "# sample_size = 10000 # None for all\n",
    "# y_column = \"winBid\"\n",
    "# apply_logscale_to_target = False\n",
    "# train_df = pd.read_csv(train_path)\n",
    "# if sample_size is None:\n",
    "#     sample_size = len(train_df)\n",
    "\n",
    "# train_df = train_df.sample(n=sample_size)\n",
    "# X, y = train_df.drop(columns=[y_column]), train_df[y_column]\n",
    "# X = preprocessing(data=X, category_coverage_threshold=category_coverage_threshold, apply_logscale_to_target=apply_logscale_to_target)\n",
    "# y = preprocess_target(y)\n",
    "\n",
    "# # Split the data into train, evaluate, and test sets\n",
    "# X_train, X_test, y_train, y_test = train_test_split(X, y, test_size=test_size, random_state=random_seed)"
   ]
  },
  {
   "attachments": {},
   "cell_type": "markdown",
   "metadata": {},
   "source": [
    "## Modelling"
   ]
  },
  {
   "cell_type": "code",
   "execution_count": 45,
   "metadata": {},
   "outputs": [],
   "source": [
    "from sklearn.model_selection import GridSearchCV\n",
    "from sklearn.pipeline import Pipeline\n",
    "from sklearn.dummy import DummyRegressor\n",
    "import numpy as np\n",
    "from sklearn.model_selection import GridSearchCV\n",
    "from sklearn.ensemble import RandomForestRegressor\n",
    "import xgboost as xgb\n",
    "from sklearn.svm import SVR\n",
    "from sklearn.linear_model import HuberRegressor\n",
    "\n",
    "RANDOM_SEED = 42\n",
    "np.random.seed(RANDOM_SEED)\n",
    "\n",
    "def train_model(X_train, y_train):\n",
    "    pl = Pipeline([\n",
    "        ('est',  SVR())\n",
    "    ])\n",
    "\n",
    "    param_grid=[\n",
    "        {'est': [RandomForestRegressor()],'est__n_estimators':[5,10,25]},\n",
    "        {'est': [xgb.XGBRegressor()], 'est__learning_rate':[0.1], 'est__n_estimators':[100], 'est__max_depth':[3,5,10]},\n",
    "        {'est': [HuberRegressor()], 'est__epsilon': [1.35] },\n",
    "        {'est': [DummyRegressor()], 'est__strategy': ['median', 'mean']},\n",
    "    ]\n",
    "    cv = GridSearchCV(pl,param_grid,scoring='neg_mean_squared_error', cv=2, refit=True, n_jobs=-1)\n",
    "\n",
    "    clf = cv.fit(X=X_train, y=y_train)\n",
    "    return clf"
   ]
  },
  {
   "attachments": {},
   "cell_type": "markdown",
   "metadata": {},
   "source": [
    "# Evaluation"
   ]
  },
  {
   "cell_type": "code",
   "execution_count": 46,
   "metadata": {},
   "outputs": [],
   "source": [
    "train_path = r\"data\\train_data.csv\"\n",
    "train_df = pd.read_csv(train_path)\n",
    "\n",
    "test_path = r\"data\\test_data.csv\"\n",
    "test_df = pd.read_csv(test_path)"
   ]
  },
  {
   "cell_type": "code",
   "execution_count": 47,
   "metadata": {},
   "outputs": [],
   "source": [
    "from sklearn.model_selection import ParameterGrid\n",
    "from sklearn.model_selection import train_test_split\n",
    "from sklearn.metrics import mean_squared_error\n",
    "import json\n",
    "\n",
    "category_coverage_threshold = 0.01\n",
    "test_size = 0.2\n",
    "sample_size = 10000 # None for all\n",
    "y_column = \"winBid\"\n",
    "if sample_size is None:\n",
    "    sample_size = len(train_df)\n",
    "\n",
    "\n",
    "train_df = train_df.sample(n=sample_size)\n",
    "X, y = train_df.drop(columns=[y_column]), train_df[y_column]\n",
    "X, test_df = preprocessing(data=X, test_data=test_df, category_coverage_threshold=category_coverage_threshold)\n",
    "X_train, X_eval, y_train, y_eval = train_test_split(X, y, test_size=test_size, random_state=RANDOM_SEED)"
   ]
  },
  {
   "cell_type": "code",
   "execution_count": 48,
   "metadata": {},
   "outputs": [],
   "source": [
    "preprocessing_logs = {}\n",
    "target_preprocessing_params_grid = list(ParameterGrid({\n",
    "    'apply_logscale_to_target': [False],\n",
    "    'winsorization_upper_quantile': [0.99, 1.0],\n",
    "}))\n",
    "for preprocessing_params in target_preprocessing_params_grid:\n",
    "    y_train = preprocess_target(y_train, **preprocessing_params)\n",
    "    clf = train_model(X_train=X_train, y_train=y_train)\n",
    "    \n",
    "    curr_best_model = clf.best_estimator_\n",
    "    curr_train_rmse = np.sqrt(-clf.best_score_)\n",
    "\n",
    "    preprocessing_key = json.dumps(preprocessing_params)\n",
    "\n",
    "    y_pred = clf.predict(X_eval)\n",
    "\n",
    "    y_pred = postprocess_target(y_pred, **preprocessing_params)\n",
    "\n",
    "    curr_test_rmse = mean_squared_error(y_true=y_eval, y_pred=y_pred)\n",
    "\n",
    "    preprocessing_logs[preprocessing_key] = {\n",
    "        'train_rmse': curr_train_rmse,\n",
    "        'test_rmse': curr_test_rmse,\n",
    "        'best_model': curr_best_model\n",
    "    }"
   ]
  },
  {
   "cell_type": "code",
   "execution_count": 49,
   "metadata": {},
   "outputs": [
    {
     "data": {
      "text/plain": [
       "{'{\"apply_logscale_to_target\": false, \"winsorization_upper_quantile\": 0.99}': {'train_rmse': 7.48117613560759,\n",
       "  'test_rmse': 560.5321481980291,\n",
       "  'best_model': Pipeline(steps=[('est',\n",
       "                   XGBRegressor(base_score=None, booster=None, callbacks=None,\n",
       "                                colsample_bylevel=None, colsample_bynode=None,\n",
       "                                colsample_bytree=None, early_stopping_rounds=None,\n",
       "                                enable_categorical=False, eval_metric=None,\n",
       "                                feature_types=None, gamma=None, gpu_id=None,\n",
       "                                grow_policy=None, importance_type=None,\n",
       "                                interaction_constraints=None, learning_rate=0.1,\n",
       "                                max_bin=None, max_cat_threshold=None,\n",
       "                                max_cat_to_onehot=None, max_delta_step=None,\n",
       "                                max_depth=3, max_leaves=None,\n",
       "                                min_child_weight=None, missing=nan,\n",
       "                                monotone_constraints=None, n_estimators=100,\n",
       "                                n_jobs=None, num_parallel_tree=None,\n",
       "                                predictor=None, random_state=None, ...))])},\n",
       " '{\"apply_logscale_to_target\": false, \"winsorization_upper_quantile\": 1.0}': {'train_rmse': 7.48117613560759,\n",
       "  'test_rmse': 560.5321481980291,\n",
       "  'best_model': Pipeline(steps=[('est',\n",
       "                   XGBRegressor(base_score=None, booster=None, callbacks=None,\n",
       "                                colsample_bylevel=None, colsample_bynode=None,\n",
       "                                colsample_bytree=None, early_stopping_rounds=None,\n",
       "                                enable_categorical=False, eval_metric=None,\n",
       "                                feature_types=None, gamma=None, gpu_id=None,\n",
       "                                grow_policy=None, importance_type=None,\n",
       "                                interaction_constraints=None, learning_rate=0.1,\n",
       "                                max_bin=None, max_cat_threshold=None,\n",
       "                                max_cat_to_onehot=None, max_delta_step=None,\n",
       "                                max_depth=3, max_leaves=None,\n",
       "                                min_child_weight=None, missing=nan,\n",
       "                                monotone_constraints=None, n_estimators=100,\n",
       "                                n_jobs=None, num_parallel_tree=None,\n",
       "                                predictor=None, random_state=None, ...))])}}"
      ]
     },
     "execution_count": 49,
     "metadata": {},
     "output_type": "execute_result"
    }
   ],
   "source": [
    "preprocessing_logs"
   ]
  },
  {
   "attachments": {},
   "cell_type": "markdown",
   "metadata": {},
   "source": [
    "# Generate Predictions"
   ]
  },
  {
   "cell_type": "code",
   "execution_count": null,
   "metadata": {},
   "outputs": [],
   "source": [
    "best_model = min(preprocessing_logs.values(), key=lambda d: d['test_rmse'])['']"
   ]
  },
  {
   "cell_type": "code",
   "execution_count": null,
   "metadata": {},
   "outputs": [],
   "source": []
  },
  {
   "cell_type": "code",
   "execution_count": null,
   "metadata": {},
   "outputs": [],
   "source": []
  }
 ],
 "metadata": {
  "kernelspec": {
   "display_name": "Python 3",
   "language": "python",
   "name": "python3"
  },
  "language_info": {
   "codemirror_mode": {
    "name": "ipython",
    "version": 3
   },
   "file_extension": ".py",
   "mimetype": "text/x-python",
   "name": "python",
   "nbconvert_exporter": "python",
   "pygments_lexer": "ipython3",
   "version": "3.10.11"
  },
  "orig_nbformat": 4
 },
 "nbformat": 4,
 "nbformat_minor": 2
}
