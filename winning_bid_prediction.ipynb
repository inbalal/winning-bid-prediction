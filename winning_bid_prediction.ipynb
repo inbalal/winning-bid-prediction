{
 "cells": [
  {
   "cell_type": "code",
   "execution_count": 1,
   "metadata": {},
   "outputs": [],
   "source": [
    "import pandas as pd\n",
    "import matplotlib.pyplot as plt\n",
    "import seaborn as sns"
   ]
  },
  {
   "attachments": {},
   "cell_type": "markdown",
   "metadata": {},
   "source": [
    "# EDA"
   ]
  },
  {
   "cell_type": "code",
   "execution_count": 2,
   "metadata": {},
   "outputs": [
    {
     "data": {
      "text/html": [
       "<div>\n",
       "<style scoped>\n",
       "    .dataframe tbody tr th:only-of-type {\n",
       "        vertical-align: middle;\n",
       "    }\n",
       "\n",
       "    .dataframe tbody tr th {\n",
       "        vertical-align: top;\n",
       "    }\n",
       "\n",
       "    .dataframe thead th {\n",
       "        text-align: right;\n",
       "    }\n",
       "</style>\n",
       "<table border=\"1\" class=\"dataframe\">\n",
       "  <thead>\n",
       "    <tr style=\"text-align: right;\">\n",
       "      <th></th>\n",
       "      <th>eventTimestamp</th>\n",
       "      <th>unitDisplayType</th>\n",
       "      <th>brandName</th>\n",
       "      <th>bundleId</th>\n",
       "      <th>appVersion</th>\n",
       "      <th>correctModelName</th>\n",
       "      <th>countryCode</th>\n",
       "      <th>deviceId</th>\n",
       "      <th>osAndVersion</th>\n",
       "      <th>connectionType</th>\n",
       "      <th>c1</th>\n",
       "      <th>c2</th>\n",
       "      <th>c3</th>\n",
       "      <th>c4</th>\n",
       "      <th>size</th>\n",
       "      <th>mediationProviderVersion</th>\n",
       "      <th>bidFloorPrice</th>\n",
       "      <th>sentPrice</th>\n",
       "      <th>winBid</th>\n",
       "      <th>has_won</th>\n",
       "    </tr>\n",
       "  </thead>\n",
       "  <tbody>\n",
       "    <tr>\n",
       "      <th>6510019</th>\n",
       "      <td>1656898788246</td>\n",
       "      <td>banner</td>\n",
       "      <td>Generic</td>\n",
       "      <td>com.loop.match3d</td>\n",
       "      <td>1245.35.0</td>\n",
       "      <td>Android 4.0</td>\n",
       "      <td>US</td>\n",
       "      <td>808d3dcd551</td>\n",
       "      <td>Android-4.0</td>\n",
       "      <td>3G</td>\n",
       "      <td>7d3</td>\n",
       "      <td>7.0</td>\n",
       "      <td>6b</td>\n",
       "      <td>6.0</td>\n",
       "      <td>320x50</td>\n",
       "      <td>11.4.3</td>\n",
       "      <td>0.01</td>\n",
       "      <td>0.16</td>\n",
       "      <td>2.72</td>\n",
       "      <td>0</td>\n",
       "    </tr>\n",
       "    <tr>\n",
       "      <th>5041187</th>\n",
       "      <td>1657159721387</td>\n",
       "      <td>banner</td>\n",
       "      <td>Generic</td>\n",
       "      <td>com.loop.match3d</td>\n",
       "      <td>1245.35.0</td>\n",
       "      <td>Android 4.0</td>\n",
       "      <td>US</td>\n",
       "      <td>6a79a2cfac2</td>\n",
       "      <td>Android-4.0</td>\n",
       "      <td>WIFI</td>\n",
       "      <td>7d3</td>\n",
       "      <td>8.0</td>\n",
       "      <td>6b</td>\n",
       "      <td>8.0</td>\n",
       "      <td>320x50</td>\n",
       "      <td>11.4.3</td>\n",
       "      <td>0.01</td>\n",
       "      <td>0.73</td>\n",
       "      <td>2.03</td>\n",
       "      <td>0</td>\n",
       "    </tr>\n",
       "    <tr>\n",
       "      <th>6660007</th>\n",
       "      <td>1657066904817</td>\n",
       "      <td>interstitial</td>\n",
       "      <td>Generic</td>\n",
       "      <td>com.loop.match3d</td>\n",
       "      <td>1245.34.0</td>\n",
       "      <td>Android 4.0</td>\n",
       "      <td>BR</td>\n",
       "      <td>74ca7fd3bc0</td>\n",
       "      <td>Android-4.0</td>\n",
       "      <td>WIFI</td>\n",
       "      <td>8bd</td>\n",
       "      <td>9.0</td>\n",
       "      <td>6b</td>\n",
       "      <td>4.0</td>\n",
       "      <td>320x480</td>\n",
       "      <td>11.4.2</td>\n",
       "      <td>0.01</td>\n",
       "      <td>0.16</td>\n",
       "      <td>0.82</td>\n",
       "      <td>0</td>\n",
       "    </tr>\n",
       "    <tr>\n",
       "      <th>1730076</th>\n",
       "      <td>1656355103060</td>\n",
       "      <td>banner</td>\n",
       "      <td>Generic</td>\n",
       "      <td>com.loop.match3d</td>\n",
       "      <td>1245.34.0</td>\n",
       "      <td>Android 4.0</td>\n",
       "      <td>GB</td>\n",
       "      <td>80b0638c574</td>\n",
       "      <td>Android-4.0</td>\n",
       "      <td>WIFI</td>\n",
       "      <td>7d3</td>\n",
       "      <td>3.0</td>\n",
       "      <td>6b</td>\n",
       "      <td>5.0</td>\n",
       "      <td>320x50</td>\n",
       "      <td>11.4.2</td>\n",
       "      <td>0.01</td>\n",
       "      <td>0.04</td>\n",
       "      <td>0.08</td>\n",
       "      <td>0</td>\n",
       "    </tr>\n",
       "    <tr>\n",
       "      <th>563470</th>\n",
       "      <td>1656443284190</td>\n",
       "      <td>rewarded</td>\n",
       "      <td>Apple</td>\n",
       "      <td>1502447854</td>\n",
       "      <td>1245.34.0</td>\n",
       "      <td>iPhone</td>\n",
       "      <td>GB</td>\n",
       "      <td>8022434fc01</td>\n",
       "      <td>iOS-15.5</td>\n",
       "      <td>WIFI</td>\n",
       "      <td>82a</td>\n",
       "      <td>4.0</td>\n",
       "      <td>4b</td>\n",
       "      <td>2.0</td>\n",
       "      <td>320x480</td>\n",
       "      <td>11.4.1</td>\n",
       "      <td>0.01</td>\n",
       "      <td>1.39</td>\n",
       "      <td>9.76</td>\n",
       "      <td>0</td>\n",
       "    </tr>\n",
       "  </tbody>\n",
       "</table>\n",
       "</div>"
      ],
      "text/plain": [
       "         eventTimestamp unitDisplayType brandName          bundleId  \\\n",
       "6510019   1656898788246          banner   Generic  com.loop.match3d   \n",
       "5041187   1657159721387          banner   Generic  com.loop.match3d   \n",
       "6660007   1657066904817    interstitial   Generic  com.loop.match3d   \n",
       "1730076   1656355103060          banner   Generic  com.loop.match3d   \n",
       "563470    1656443284190        rewarded     Apple        1502447854   \n",
       "\n",
       "        appVersion correctModelName countryCode     deviceId osAndVersion  \\\n",
       "6510019  1245.35.0      Android 4.0          US  808d3dcd551  Android-4.0   \n",
       "5041187  1245.35.0      Android 4.0          US  6a79a2cfac2  Android-4.0   \n",
       "6660007  1245.34.0      Android 4.0          BR  74ca7fd3bc0  Android-4.0   \n",
       "1730076  1245.34.0      Android 4.0          GB  80b0638c574  Android-4.0   \n",
       "563470   1245.34.0           iPhone          GB  8022434fc01     iOS-15.5   \n",
       "\n",
       "        connectionType   c1   c2  c3   c4     size mediationProviderVersion  \\\n",
       "6510019             3G  7d3  7.0  6b  6.0   320x50                   11.4.3   \n",
       "5041187           WIFI  7d3  8.0  6b  8.0   320x50                   11.4.3   \n",
       "6660007           WIFI  8bd  9.0  6b  4.0  320x480                   11.4.2   \n",
       "1730076           WIFI  7d3  3.0  6b  5.0   320x50                   11.4.2   \n",
       "563470            WIFI  82a  4.0  4b  2.0  320x480                   11.4.1   \n",
       "\n",
       "         bidFloorPrice  sentPrice  winBid  has_won  \n",
       "6510019           0.01       0.16    2.72        0  \n",
       "5041187           0.01       0.73    2.03        0  \n",
       "6660007           0.01       0.16    0.82        0  \n",
       "1730076           0.01       0.04    0.08        0  \n",
       "563470            0.01       1.39    9.76        0  "
      ]
     },
     "execution_count": 2,
     "metadata": {},
     "output_type": "execute_result"
    }
   ],
   "source": [
    "## load the data\n",
    "train_path = r\"data\\train_data.csv\"\n",
    "train_df = pd.read_csv(train_path)\n",
    "train_df = train_df.sample(n=10000)\n",
    "train_df.head()"
   ]
  },
  {
   "cell_type": "code",
   "execution_count": 3,
   "metadata": {},
   "outputs": [
    {
     "data": {
      "text/html": [
       "<div>\n",
       "<style scoped>\n",
       "    .dataframe tbody tr th:only-of-type {\n",
       "        vertical-align: middle;\n",
       "    }\n",
       "\n",
       "    .dataframe tbody tr th {\n",
       "        vertical-align: top;\n",
       "    }\n",
       "\n",
       "    .dataframe thead th {\n",
       "        text-align: right;\n",
       "    }\n",
       "</style>\n",
       "<table border=\"1\" class=\"dataframe\">\n",
       "  <thead>\n",
       "    <tr style=\"text-align: right;\">\n",
       "      <th></th>\n",
       "      <th>eventTimestamp</th>\n",
       "      <th>unitDisplayType</th>\n",
       "      <th>brandName</th>\n",
       "      <th>bundleId</th>\n",
       "      <th>appVersion</th>\n",
       "      <th>correctModelName</th>\n",
       "      <th>countryCode</th>\n",
       "      <th>deviceId</th>\n",
       "      <th>osAndVersion</th>\n",
       "      <th>connectionType</th>\n",
       "      <th>c1</th>\n",
       "      <th>c2</th>\n",
       "      <th>c3</th>\n",
       "      <th>c4</th>\n",
       "      <th>size</th>\n",
       "      <th>mediationProviderVersion</th>\n",
       "      <th>bidFloorPrice</th>\n",
       "      <th>sentPrice</th>\n",
       "      <th>winBid</th>\n",
       "      <th>has_won</th>\n",
       "    </tr>\n",
       "  </thead>\n",
       "  <tbody>\n",
       "  </tbody>\n",
       "</table>\n",
       "</div>"
      ],
      "text/plain": [
       "Empty DataFrame\n",
       "Columns: [eventTimestamp, unitDisplayType, brandName, bundleId, appVersion, correctModelName, countryCode, deviceId, osAndVersion, connectionType, c1, c2, c3, c4, size, mediationProviderVersion, bidFloorPrice, sentPrice, winBid, has_won]\n",
       "Index: []"
      ]
     },
     "execution_count": 3,
     "metadata": {},
     "output_type": "execute_result"
    }
   ],
   "source": [
    "## check for duplicate rows\n",
    "\n",
    "train_df[train_df.duplicated()]"
   ]
  },
  {
   "cell_type": "code",
   "execution_count": 4,
   "metadata": {},
   "outputs": [
    {
     "data": {
      "text/html": [
       "<div>\n",
       "<style scoped>\n",
       "    .dataframe tbody tr th:only-of-type {\n",
       "        vertical-align: middle;\n",
       "    }\n",
       "\n",
       "    .dataframe tbody tr th {\n",
       "        vertical-align: top;\n",
       "    }\n",
       "\n",
       "    .dataframe thead th {\n",
       "        text-align: right;\n",
       "    }\n",
       "</style>\n",
       "<table border=\"1\" class=\"dataframe\">\n",
       "  <thead>\n",
       "    <tr style=\"text-align: right;\">\n",
       "      <th></th>\n",
       "      <th>eventTimestamp</th>\n",
       "      <th>c2</th>\n",
       "      <th>c4</th>\n",
       "      <th>bidFloorPrice</th>\n",
       "      <th>sentPrice</th>\n",
       "      <th>winBid</th>\n",
       "      <th>has_won</th>\n",
       "    </tr>\n",
       "  </thead>\n",
       "  <tbody>\n",
       "    <tr>\n",
       "      <th>count</th>\n",
       "      <td>10000.00</td>\n",
       "      <td>10000.00</td>\n",
       "      <td>10000.00</td>\n",
       "      <td>10000.00</td>\n",
       "      <td>10000.00</td>\n",
       "      <td>10000.00</td>\n",
       "      <td>10000.00</td>\n",
       "    </tr>\n",
       "    <tr>\n",
       "      <th>mean</th>\n",
       "      <td>1657041877421.26</td>\n",
       "      <td>5.00</td>\n",
       "      <td>5.01</td>\n",
       "      <td>0.02</td>\n",
       "      <td>0.59</td>\n",
       "      <td>4.29</td>\n",
       "      <td>0.11</td>\n",
       "    </tr>\n",
       "    <tr>\n",
       "      <th>std</th>\n",
       "      <td>397859504.67</td>\n",
       "      <td>2.33</td>\n",
       "      <td>2.34</td>\n",
       "      <td>0.13</td>\n",
       "      <td>2.66</td>\n",
       "      <td>20.96</td>\n",
       "      <td>0.31</td>\n",
       "    </tr>\n",
       "    <tr>\n",
       "      <th>min</th>\n",
       "      <td>1656290456139.00</td>\n",
       "      <td>1.00</td>\n",
       "      <td>1.00</td>\n",
       "      <td>0.01</td>\n",
       "      <td>0.01</td>\n",
       "      <td>0.01</td>\n",
       "      <td>0.00</td>\n",
       "    </tr>\n",
       "    <tr>\n",
       "      <th>25%</th>\n",
       "      <td>1656705462830.50</td>\n",
       "      <td>3.00</td>\n",
       "      <td>3.00</td>\n",
       "      <td>0.01</td>\n",
       "      <td>0.02</td>\n",
       "      <td>0.10</td>\n",
       "      <td>0.00</td>\n",
       "    </tr>\n",
       "    <tr>\n",
       "      <th>50%</th>\n",
       "      <td>1657041514511.50</td>\n",
       "      <td>5.00</td>\n",
       "      <td>5.00</td>\n",
       "      <td>0.01</td>\n",
       "      <td>0.04</td>\n",
       "      <td>0.53</td>\n",
       "      <td>0.00</td>\n",
       "    </tr>\n",
       "    <tr>\n",
       "      <th>75%</th>\n",
       "      <td>1657389725703.25</td>\n",
       "      <td>7.00</td>\n",
       "      <td>7.00</td>\n",
       "      <td>0.01</td>\n",
       "      <td>0.17</td>\n",
       "      <td>1.61</td>\n",
       "      <td>0.00</td>\n",
       "    </tr>\n",
       "    <tr>\n",
       "      <th>max</th>\n",
       "      <td>1657758889168.00</td>\n",
       "      <td>9.00</td>\n",
       "      <td>9.00</td>\n",
       "      <td>5.00</td>\n",
       "      <td>91.19</td>\n",
       "      <td>1247.10</td>\n",
       "      <td>1.00</td>\n",
       "    </tr>\n",
       "  </tbody>\n",
       "</table>\n",
       "</div>"
      ],
      "text/plain": [
       "        eventTimestamp       c2       c4  bidFloorPrice  sentPrice   winBid  \\\n",
       "count         10000.00 10000.00 10000.00       10000.00   10000.00 10000.00   \n",
       "mean  1657041877421.26     5.00     5.01           0.02       0.59     4.29   \n",
       "std       397859504.67     2.33     2.34           0.13       2.66    20.96   \n",
       "min   1656290456139.00     1.00     1.00           0.01       0.01     0.01   \n",
       "25%   1656705462830.50     3.00     3.00           0.01       0.02     0.10   \n",
       "50%   1657041514511.50     5.00     5.00           0.01       0.04     0.53   \n",
       "75%   1657389725703.25     7.00     7.00           0.01       0.17     1.61   \n",
       "max   1657758889168.00     9.00     9.00           5.00      91.19  1247.10   \n",
       "\n",
       "       has_won  \n",
       "count 10000.00  \n",
       "mean      0.11  \n",
       "std       0.31  \n",
       "min       0.00  \n",
       "25%       0.00  \n",
       "50%       0.00  \n",
       "75%       0.00  \n",
       "max       1.00  "
      ]
     },
     "execution_count": 4,
     "metadata": {},
     "output_type": "execute_result"
    }
   ],
   "source": [
    "pd.set_option('display.float_format', lambda x: '%.2f' % x)\n",
    "train_df.describe()"
   ]
  },
  {
   "cell_type": "code",
   "execution_count": 5,
   "metadata": {},
   "outputs": [
    {
     "data": {
      "text/plain": [
       "0.4484"
      ]
     },
     "execution_count": 5,
     "metadata": {},
     "output_type": "execute_result"
    }
   ],
   "source": [
    "train_df.deviceId.nunique() / len(train_df)"
   ]
  },
  {
   "cell_type": "code",
   "execution_count": 6,
   "metadata": {},
   "outputs": [
    {
     "data": {
      "text/plain": [
       "320x50      7076\n",
       "320x480     1958\n",
       "728x90       777\n",
       "768x1024     186\n",
       "480x320        2\n",
       "1024x768       1\n",
       "Name: size, dtype: int64"
      ]
     },
     "execution_count": 6,
     "metadata": {},
     "output_type": "execute_result"
    }
   ],
   "source": [
    "train_df['size'].value_counts()"
   ]
  },
  {
   "cell_type": "code",
   "execution_count": 7,
   "metadata": {},
   "outputs": [
    {
     "data": {
      "text/plain": [
       "1238.368973190105"
      ]
     },
     "execution_count": 7,
     "metadata": {},
     "output_type": "execute_result"
    }
   ],
   "source": [
    "train_df.winBid.quantile(0.95)"
   ]
  },
  {
   "cell_type": "code",
   "execution_count": 8,
   "metadata": {},
   "outputs": [
    {
     "data": {
      "text/html": [
       "<div>\n",
       "<style scoped>\n",
       "    .dataframe tbody tr th:only-of-type {\n",
       "        vertical-align: middle;\n",
       "    }\n",
       "\n",
       "    .dataframe tbody tr th {\n",
       "        vertical-align: top;\n",
       "    }\n",
       "\n",
       "    .dataframe thead th {\n",
       "        text-align: right;\n",
       "    }\n",
       "</style>\n",
       "<table border=\"1\" class=\"dataframe\">\n",
       "  <thead>\n",
       "    <tr style=\"text-align: right;\">\n",
       "      <th></th>\n",
       "      <th>counts</th>\n",
       "      <th>percentage</th>\n",
       "    </tr>\n",
       "  </thead>\n",
       "  <tbody>\n",
       "    <tr>\n",
       "      <th>eventTimestamp</th>\n",
       "      <td>0</td>\n",
       "      <td>0.00</td>\n",
       "    </tr>\n",
       "    <tr>\n",
       "      <th>unitDisplayType</th>\n",
       "      <td>0</td>\n",
       "      <td>0.00</td>\n",
       "    </tr>\n",
       "    <tr>\n",
       "      <th>brandName</th>\n",
       "      <td>0</td>\n",
       "      <td>0.00</td>\n",
       "    </tr>\n",
       "    <tr>\n",
       "      <th>bundleId</th>\n",
       "      <td>0</td>\n",
       "      <td>0.00</td>\n",
       "    </tr>\n",
       "    <tr>\n",
       "      <th>appVersion</th>\n",
       "      <td>0</td>\n",
       "      <td>0.00</td>\n",
       "    </tr>\n",
       "    <tr>\n",
       "      <th>correctModelName</th>\n",
       "      <td>0</td>\n",
       "      <td>0.00</td>\n",
       "    </tr>\n",
       "    <tr>\n",
       "      <th>countryCode</th>\n",
       "      <td>0</td>\n",
       "      <td>0.00</td>\n",
       "    </tr>\n",
       "    <tr>\n",
       "      <th>deviceId</th>\n",
       "      <td>0</td>\n",
       "      <td>0.00</td>\n",
       "    </tr>\n",
       "    <tr>\n",
       "      <th>osAndVersion</th>\n",
       "      <td>0</td>\n",
       "      <td>0.00</td>\n",
       "    </tr>\n",
       "    <tr>\n",
       "      <th>connectionType</th>\n",
       "      <td>1</td>\n",
       "      <td>0.00</td>\n",
       "    </tr>\n",
       "    <tr>\n",
       "      <th>c1</th>\n",
       "      <td>0</td>\n",
       "      <td>0.00</td>\n",
       "    </tr>\n",
       "    <tr>\n",
       "      <th>c2</th>\n",
       "      <td>0</td>\n",
       "      <td>0.00</td>\n",
       "    </tr>\n",
       "    <tr>\n",
       "      <th>c3</th>\n",
       "      <td>0</td>\n",
       "      <td>0.00</td>\n",
       "    </tr>\n",
       "    <tr>\n",
       "      <th>c4</th>\n",
       "      <td>0</td>\n",
       "      <td>0.00</td>\n",
       "    </tr>\n",
       "    <tr>\n",
       "      <th>size</th>\n",
       "      <td>0</td>\n",
       "      <td>0.00</td>\n",
       "    </tr>\n",
       "    <tr>\n",
       "      <th>mediationProviderVersion</th>\n",
       "      <td>0</td>\n",
       "      <td>0.00</td>\n",
       "    </tr>\n",
       "    <tr>\n",
       "      <th>bidFloorPrice</th>\n",
       "      <td>0</td>\n",
       "      <td>0.00</td>\n",
       "    </tr>\n",
       "    <tr>\n",
       "      <th>sentPrice</th>\n",
       "      <td>0</td>\n",
       "      <td>0.00</td>\n",
       "    </tr>\n",
       "    <tr>\n",
       "      <th>winBid</th>\n",
       "      <td>0</td>\n",
       "      <td>0.00</td>\n",
       "    </tr>\n",
       "    <tr>\n",
       "      <th>has_won</th>\n",
       "      <td>0</td>\n",
       "      <td>0.00</td>\n",
       "    </tr>\n",
       "  </tbody>\n",
       "</table>\n",
       "</div>"
      ],
      "text/plain": [
       "                          counts  percentage\n",
       "eventTimestamp                 0        0.00\n",
       "unitDisplayType                0        0.00\n",
       "brandName                      0        0.00\n",
       "bundleId                       0        0.00\n",
       "appVersion                     0        0.00\n",
       "correctModelName               0        0.00\n",
       "countryCode                    0        0.00\n",
       "deviceId                       0        0.00\n",
       "osAndVersion                   0        0.00\n",
       "connectionType                 1        0.00\n",
       "c1                             0        0.00\n",
       "c2                             0        0.00\n",
       "c3                             0        0.00\n",
       "c4                             0        0.00\n",
       "size                           0        0.00\n",
       "mediationProviderVersion       0        0.00\n",
       "bidFloorPrice                  0        0.00\n",
       "sentPrice                      0        0.00\n",
       "winBid                         0        0.00\n",
       "has_won                        0        0.00"
      ]
     },
     "execution_count": 8,
     "metadata": {},
     "output_type": "execute_result"
    }
   ],
   "source": [
    "## % of missing values\n",
    "null_counts = train_df.isnull().sum()\n",
    "null_df = pd.DataFrame(data={'counts': null_counts, 'percentage': null_counts / len(train_df)})\n",
    "null_df"
   ]
  },
  {
   "cell_type": "code",
   "execution_count": 9,
   "metadata": {},
   "outputs": [
    {
     "data": {
      "text/plain": [
       "0.16"
      ]
     },
     "execution_count": 9,
     "metadata": {},
     "output_type": "execute_result"
    }
   ],
   "source": [
    "train_df[train_df['connectionType'].isnull()]['winBid'].mean()"
   ]
  },
  {
   "cell_type": "code",
   "execution_count": 10,
   "metadata": {},
   "outputs": [
    {
     "data": {
      "text/plain": [
       "nan"
      ]
     },
     "execution_count": 10,
     "metadata": {},
     "output_type": "execute_result"
    }
   ],
   "source": [
    "train_df[train_df['countryCode'].isnull()]['winBid'].mean()"
   ]
  },
  {
   "cell_type": "code",
   "execution_count": 11,
   "metadata": {},
   "outputs": [
    {
     "data": {
      "text/plain": [
       "['eventTimestamp',\n",
       " 'unitDisplayType',\n",
       " 'brandName',\n",
       " 'bundleId',\n",
       " 'appVersion',\n",
       " 'correctModelName',\n",
       " 'countryCode',\n",
       " 'deviceId',\n",
       " 'osAndVersion',\n",
       " 'connectionType',\n",
       " 'c1',\n",
       " 'c2',\n",
       " 'c3',\n",
       " 'c4',\n",
       " 'size',\n",
       " 'mediationProviderVersion',\n",
       " 'bidFloorPrice',\n",
       " 'sentPrice',\n",
       " 'winBid',\n",
       " 'has_won']"
      ]
     },
     "execution_count": 11,
     "metadata": {},
     "output_type": "execute_result"
    }
   ],
   "source": [
    "list(train_df.columns)"
   ]
  },
  {
   "attachments": {},
   "cell_type": "markdown",
   "metadata": {},
   "source": [
    "### Numeric features"
   ]
  },
  {
   "cell_type": "code",
   "execution_count": 12,
   "metadata": {},
   "outputs": [
    {
     "name": "stderr",
     "output_type": "stream",
     "text": [
      "C:\\Users\\inbal\\AppData\\Local\\Temp\\ipykernel_18312\\2979328035.py:4: FutureWarning: The default value of numeric_only in DataFrame.corr is deprecated. In a future version, it will default to False. Select only valid columns or specify the value of numeric_only to silence this warning.\n",
      "  sns.heatmap((train_df.drop(['eventTimestamp', 'has_won', 'sentPrice'], axis=1)).corr(), annot=True, cmap='coolwarm')\n"
     ]
    },
    {
     "data": {
      "image/png": "[encoded data removed]",
      "text/plain": [
       "<Figure size 500x400 with 2 Axes>"
      ]
     },
     "metadata": {},
     "output_type": "display_data"
    }
   ],
   "source": [
    "## checking for correlations between numerical columns including the target\n",
    "\n",
    "plt.figure(figsize=(5, 4))\n",
    "sns.heatmap((train_df.drop(['eventTimestamp', 'has_won', 'sentPrice'], axis=1)).corr(), annot=True, cmap='coolwarm')\n",
    "plt.title('Correlations Heatmap')\n",
    "plt.show()"
   ]
  },
  {
   "attachments": {},
   "cell_type": "markdown",
   "metadata": {},
   "source": [
    "### Categorical features"
   ]
  },
  {
   "cell_type": "code",
   "execution_count": 13,
   "metadata": {},
   "outputs": [
    {
     "data": {
      "image/png": "[encoded data removed]",
      "text/plain": [
       "<Figure size 500x300 with 1 Axes>"
      ]
     },
     "metadata": {},
     "output_type": "display_data"
    },
    {
     "data": {
      "image/png": "[encoded data removed]",
      "text/plain": [
       "<Figure size 500x300 with 1 Axes>"
      ]
     },
     "metadata": {},
     "output_type": "display_data"
    }
   ],
   "source": [
    "## explore time-related features\n",
    "\n",
    "train_df['datetime'] = pd.to_datetime(train_df['eventTimestamp'], unit='ms')\n",
    "train_df['hour'] = train_df['datetime'].dt.hour.astype(str)\n",
    "train_df['day_of_week'] = train_df['datetime'].dt.day_name()\n",
    "\n",
    "\n",
    "# Hour of day\n",
    "hourly_avg = train_df.groupby('hour')['winBid'].mean()\n",
    "plt.figure(figsize=(5, 3))\n",
    "hourly_avg.plot(kind='line')\n",
    "plt.title('Hourly Seasonality')\n",
    "plt.xlabel('Hour')\n",
    "plt.ylabel('Average Value')\n",
    "plt.grid(True)\n",
    "plt.show()\n",
    "\n",
    "# Day of the Week\n",
    "day_order = ['Monday', 'Tuesday', 'Wednesday', 'Thursday', 'Friday', 'Saturday', 'Sunday']\n",
    "daily_avg = train_df.groupby('day_of_week')['winBid'].mean().reindex(day_order)\n",
    "plt.figure(figsize=(5, 3))\n",
    "daily_avg.plot(kind='bar')\n",
    "plt.title('Daily Seasonality (Day of the Week)')\n",
    "plt.xlabel('Day of the Week')\n",
    "plt.ylabel('Average Value')\n",
    "plt.grid(True)\n",
    "plt.show()"
   ]
  },
  {
   "cell_type": "code",
   "execution_count": 14,
   "metadata": {},
   "outputs": [],
   "source": [
    "# # Visualize the distribution of a numerical column\n",
    "# plt.figure(figsize=(10, 6))\n",
    "# sns.histplot(data=train_df, x='numerical_column')\n",
    "# plt.title('Distribution of Numerical Column')\n",
    "# plt.show()\n",
    "\n",
    "# # Visualize the relationship between two numerical columns\n",
    "# plt.figure(figsize=(10, 6))\n",
    "# sns.scatterplot(data=train_df, x='numerical_column1', y='numerical_column2')\n",
    "# plt.title('Relationship between Numerical Column 1 and Numerical Column 2')\n",
    "# plt.show()\n",
    "\n",
    "# # Visualize the relationship between a categorical column and a numerical column\n",
    "# plt.figure(figsize=(10, 6))\n",
    "# sns.boxplot(data=train_df, x='categorical_column', y='numerical_column')\n",
    "# plt.title('Categorical Column vs. Numerical Column')\n",
    "# plt.show()"
   ]
  },
  {
   "attachments": {},
   "cell_type": "markdown",
   "metadata": {},
   "source": [
    "# Data Pre-processing"
   ]
  },
  {
   "cell_type": "code",
   "execution_count": 15,
   "metadata": {},
   "outputs": [],
   "source": [
    "import numpy as np\n",
    "def preprocessing(data: pd.DataFrame, test_data: pd.DataFrame, category_coverage_threshold=0.01):\n",
    "    # combine\n",
    "    if 'has_won' in data.columns:\n",
    "        data = data.drop(columns=['has_won'])\n",
    "    train_data_len, test_data_len = len(data), len(test_data)\n",
    "    \n",
    "    data = pd.concat([data, test_data], ignore_index=True)\n",
    "\n",
    "    # drops\n",
    "    data = data.drop(columns=['sentPrice', 'deviceId', 'bundleId', 'appVersion','correctModelName', 'brandName'])\n",
    "\n",
    "    # imputations\n",
    "    other_category = 'other'\n",
    "    data.fillna({'countryCode': other_category, 'connectionType': other_category},inplace=True)\n",
    "\n",
    "    # feature engineering\n",
    "\n",
    "    ## convert timestamp to temporal features\n",
    "    data['datetime'] = pd.to_datetime(data['eventTimestamp'], unit='ms')\n",
    "    data['hour'] = data['datetime'].dt.hour.astype(str)\n",
    "    data['day_of_week'] = data['datetime'].dt.day_name()\n",
    "    data = data.drop(columns=['datetime', 'eventTimestamp'])\n",
    "\n",
    "    ## extract aspect ratio from the size of the ad\n",
    "    data['aspect_ratio'] = data['size'].apply(lambda s: int(s.split('x')[0]) / int(s.split('x')[1]))\n",
    "\n",
    "    ## replace infrequent categorical values\n",
    "    categorical_features_df = data.select_dtypes(include=['object', 'category'])\n",
    "    categorical_features_names = list(categorical_features_df.columns)\n",
    "\n",
    "    for feature in categorical_features_names:\n",
    "        category_counts = categorical_features_df[feature].value_counts()\n",
    "        total_count = category_counts.sum()\n",
    "        categories_to_group = category_counts[category_counts / total_count <= category_coverage_threshold].index\n",
    "        categorical_features_df.loc[categorical_features_df[feature].isin(categories_to_group), feature] = other_category\n",
    "\n",
    "    ## perform one-hot encoding\n",
    "    onehot_df = pd.get_dummies(categorical_features_df, drop_first=True)\n",
    "\n",
    "    data = data.merge(onehot_df, left_index=True, right_index=True)\n",
    "    data = data.drop(columns=categorical_features_names)\n",
    "    return data[:train_data_len], data[train_data_len:]\n",
    "\n",
    "\n",
    "def preprocess_target(data: pd.Series, winsorization_upper_quantile=0.99, apply_logscale_to_target=False):\n",
    "    data = data.clip(upper=data.quantile(winsorization_upper_quantile))\n",
    "    if apply_logscale_to_target:\n",
    "        data = np.log(data)\n",
    "    return data\n",
    "\n",
    "\n",
    "def postprocess_target(data: pd.Series, winsorization_upper_quantile=0.99, apply_logscale_to_target=False):\n",
    "    if apply_logscale_to_target:\n",
    "        data = np.exp(data)\n",
    "    return data\n",
    "\n"
   ]
  },
  {
   "attachments": {},
   "cell_type": "markdown",
   "metadata": {},
   "source": [
    "## Modelling"
   ]
  },
  {
   "cell_type": "code",
   "execution_count": 22,
   "metadata": {},
   "outputs": [],
   "source": [
    "train_path = r\"data\\train_data.csv\"\n",
    "train_df = pd.read_csv(train_path)\n",
    "\n",
    "test_path = r\"data\\test_data.csv\"\n",
    "test_df = pd.read_csv(test_path)\n",
    "\n",
    "RANDOM_SEED = 42\n",
    "np.random.seed(RANDOM_SEED)"
   ]
  },
  {
   "cell_type": "code",
   "execution_count": 23,
   "metadata": {},
   "outputs": [],
   "source": [
    "from sklearn.model_selection import train_test_split\n",
    "\n",
    "category_coverage_threshold = 0.01\n",
    "test_size = 0.2\n",
    "sample_size = int(500000) # None for all\n",
    "y_column = \"winBid\"\n",
    "if sample_size is None:\n",
    "    sample_size = len(train_df)\n",
    "\n",
    "train_df = train_df.sample(n=sample_size)\n",
    "X, y = train_df.drop(columns=[y_column]), train_df[y_column]\n",
    "X, test_df = preprocessing(data=X, test_data=test_df, category_coverage_threshold=category_coverage_threshold)\n",
    "X_train, X_eval, y_train, y_eval = train_test_split(X, y, test_size=test_size, random_state=RANDOM_SEED)"
   ]
  },
  {
   "attachments": {},
   "cell_type": "markdown",
   "metadata": {},
   "source": [
    "# Training"
   ]
  },
  {
   "cell_type": "code",
   "execution_count": 24,
   "metadata": {},
   "outputs": [],
   "source": [
    "from sklearn.model_selection import GridSearchCV\n",
    "from sklearn.pipeline import Pipeline\n",
    "from sklearn.dummy import DummyRegressor\n",
    "import numpy as np\n",
    "from sklearn.model_selection import GridSearchCV\n",
    "from sklearn.ensemble import RandomForestRegressor\n",
    "import xgboost as xgb\n",
    "from sklearn.linear_model import HuberRegressor\n",
    "\n",
    "\n",
    "def train_model(X_train, y_train, cv=2):\n",
    "    pl = Pipeline([\n",
    "        ('est',  DummyRegressor())\n",
    "    ])\n",
    "\n",
    "    param_grid=[\n",
    "        # Strong Model\n",
    "        {'est': [xgb.XGBRegressor()], 'est__n_estimators':[100, 200],\n",
    "                                        'est__gamma': [0.5, 2.0],\n",
    "                                        'est__max_depth': [5, 10]\n",
    "                                        },\n",
    "        # Robust Models\n",
    "        {'est': [HuberRegressor()], 'est__epsilon': [5], 'est__alpha': [1e-4, 1e-2]},\n",
    "        {'est': [RandomForestRegressor()],'est__n_estimators':[5,20], 'est__min_samples_leaf': [100]},\n",
    "\n",
    "        # Dummy Baselines\n",
    "        {'est': [DummyRegressor()], 'est__strategy': ['median', 'mean']},\n",
    "    ]\n",
    "    cv = GridSearchCV(pl,param_grid,scoring='neg_mean_squared_error', cv=cv, refit=True, n_jobs=-1)\n",
    "\n",
    "    clf = cv.fit(X=X_train, y=y_train)\n",
    "    return clf"
   ]
  },
  {
   "cell_type": "code",
   "execution_count": 25,
   "metadata": {},
   "outputs": [],
   "source": [
    "target_preprocessing_params = {\"winsorization_upper_quantile\": 0.95}\n",
    "y_train = preprocess_target(y_train, **target_preprocessing_params)\n",
    "clf = train_model(X_train=X_train, y_train=y_train)\n",
    "best_model = clf.best_estimator_\n",
    "train_rmse = np.sqrt(-clf.best_score_)"
   ]
  },
  {
   "cell_type": "code",
   "execution_count": 26,
   "metadata": {},
   "outputs": [
    {
     "data": {
      "text/html": [
       "<style>#sk-container-id-1 {color: black;}#sk-container-id-1 pre{padding: 0;}#sk-container-id-1 div.sk-toggleable {background-color: white;}#sk-container-id-1 label.sk-toggleable__label {cursor: pointer;display: block;width: 100%;margin-bottom: 0;padding: 0.3em;box-sizing: border-box;text-align: center;}#sk-container-id-1 label.sk-toggleable__label-arrow:before {content: \"▸\";float: left;margin-right: 0.25em;color: #696969;}#sk-container-id-1 label.sk-toggleable__label-arrow:hover:before {color: black;}#sk-container-id-1 div.sk-estimator:hover label.sk-toggleable__label-arrow:before {color: black;}#sk-container-id-1 div.sk-toggleable__content {max-height: 0;max-width: 0;overflow: hidden;text-align: left;background-color: #f0f8ff;}#sk-container-id-1 div.sk-toggleable__content pre {margin: 0.2em;color: black;border-radius: 0.25em;background-color: #f0f8ff;}#sk-container-id-1 input.sk-toggleable__control:checked~div.sk-toggleable__content {max-height: 200px;max-width: 100%;overflow: auto;}#sk-container-id-1 input.sk-toggleable__control:checked~label.sk-toggleable__label-arrow:before {content: \"▾\";}#sk-container-id-1 div.sk-estimator input.sk-toggleable__control:checked~label.sk-toggleable__label {background-color: #d4ebff;}#sk-container-id-1 div.sk-label input.sk-toggleable__control:checked~label.sk-toggleable__label {background-color: #d4ebff;}#sk-container-id-1 input.sk-hidden--visually {border: 0;clip: rect(1px 1px 1px 1px);clip: rect(1px, 1px, 1px, 1px);height: 1px;margin: -1px;overflow: hidden;padding: 0;position: absolute;width: 1px;}#sk-container-id-1 div.sk-estimator {font-family: monospace;background-color: #f0f8ff;border: 1px dotted black;border-radius: 0.25em;box-sizing: border-box;margin-bottom: 0.5em;}#sk-container-id-1 div.sk-estimator:hover {background-color: #d4ebff;}#sk-container-id-1 div.sk-parallel-item::after {content: \"\";width: 100%;border-bottom: 1px solid gray;flex-grow: 1;}#sk-container-id-1 div.sk-label:hover label.sk-toggleable__label {background-color: #d4ebff;}#sk-container-id-1 div.sk-serial::before {content: \"\";position: absolute;border-left: 1px solid gray;box-sizing: border-box;top: 0;bottom: 0;left: 50%;z-index: 0;}#sk-container-id-1 div.sk-serial {display: flex;flex-direction: column;align-items: center;background-color: white;padding-right: 0.2em;padding-left: 0.2em;position: relative;}#sk-container-id-1 div.sk-item {position: relative;z-index: 1;}#sk-container-id-1 div.sk-parallel {display: flex;align-items: stretch;justify-content: center;background-color: white;position: relative;}#sk-container-id-1 div.sk-item::before, #sk-container-id-1 div.sk-parallel-item::before {content: \"\";position: absolute;border-left: 1px solid gray;box-sizing: border-box;top: 0;bottom: 0;left: 50%;z-index: -1;}#sk-container-id-1 div.sk-parallel-item {display: flex;flex-direction: column;z-index: 1;position: relative;background-color: white;}#sk-container-id-1 div.sk-parallel-item:first-child::after {align-self: flex-end;width: 50%;}#sk-container-id-1 div.sk-parallel-item:last-child::after {align-self: flex-start;width: 50%;}#sk-container-id-1 div.sk-parallel-item:only-child::after {width: 0;}#sk-container-id-1 div.sk-dashed-wrapped {border: 1px dashed gray;margin: 0 0.4em 0.5em 0.4em;box-sizing: border-box;padding-bottom: 0.4em;background-color: white;}#sk-container-id-1 div.sk-label label {font-family: monospace;font-weight: bold;display: inline-block;line-height: 1.2em;}#sk-container-id-1 div.sk-label-container {text-align: center;}#sk-container-id-1 div.sk-container {/* jupyter's `normalize.less` sets `[hidden] { display: none; }` but bootstrap.min.css set `[hidden] { display: none !important; }` so we also need the `!important` here to be able to override the default hidden behavior on the sphinx rendered scikit-learn.org. See: https://github.com/scikit-learn/scikit-learn/issues/21755 */display: inline-block !important;position: relative;}#sk-container-id-1 div.sk-text-repr-fallback {display: none;}</style><div id=\"sk-container-id-1\" class=\"sk-top-container\"><div class=\"sk-text-repr-fallback\"><pre>Pipeline(steps=[(&#x27;est&#x27;,\n",
       "                 XGBRegressor(base_score=None, booster=None, callbacks=None,\n",
       "                              colsample_bylevel=None, colsample_bynode=None,\n",
       "                              colsample_bytree=None, early_stopping_rounds=None,\n",
       "                              enable_categorical=False, eval_metric=None,\n",
       "                              feature_types=None, gamma=2.0, gpu_id=None,\n",
       "                              grow_policy=None, importance_type=None,\n",
       "                              interaction_constraints=None, learning_rate=None,\n",
       "                              max_bin=None, max_cat_threshold=None,\n",
       "                              max_cat_to_onehot=None, max_delta_step=None,\n",
       "                              max_depth=5, max_leaves=None,\n",
       "                              min_child_weight=None, missing=nan,\n",
       "                              monotone_constraints=None, n_estimators=200,\n",
       "                              n_jobs=None, num_parallel_tree=None,\n",
       "                              predictor=None, random_state=None, ...))])</pre><b>In a Jupyter environment, please rerun this cell to show the HTML representation or trust the notebook. <br />On GitHub, the HTML representation is unable to render, please try loading this page with nbviewer.org.</b></div><div class=\"sk-container\" hidden><div class=\"sk-item sk-dashed-wrapped\"><div class=\"sk-label-container\"><div class=\"sk-label sk-toggleable\"><input class=\"sk-toggleable__control sk-hidden--visually\" id=\"sk-estimator-id-1\" type=\"checkbox\" ><label for=\"sk-estimator-id-1\" class=\"sk-toggleable__label sk-toggleable__label-arrow\">Pipeline</label><div class=\"sk-toggleable__content\"><pre>Pipeline(steps=[(&#x27;est&#x27;,\n",
       "                 XGBRegressor(base_score=None, booster=None, callbacks=None,\n",
       "                              colsample_bylevel=None, colsample_bynode=None,\n",
       "                              colsample_bytree=None, early_stopping_rounds=None,\n",
       "                              enable_categorical=False, eval_metric=None,\n",
       "                              feature_types=None, gamma=2.0, gpu_id=None,\n",
       "                              grow_policy=None, importance_type=None,\n",
       "                              interaction_constraints=None, learning_rate=None,\n",
       "                              max_bin=None, max_cat_threshold=None,\n",
       "                              max_cat_to_onehot=None, max_delta_step=None,\n",
       "                              max_depth=5, max_leaves=None,\n",
       "                              min_child_weight=None, missing=nan,\n",
       "                              monotone_constraints=None, n_estimators=200,\n",
       "                              n_jobs=None, num_parallel_tree=None,\n",
       "                              predictor=None, random_state=None, ...))])</pre></div></div></div><div class=\"sk-serial\"><div class=\"sk-item\"><div class=\"sk-estimator sk-toggleable\"><input class=\"sk-toggleable__control sk-hidden--visually\" id=\"sk-estimator-id-2\" type=\"checkbox\" ><label for=\"sk-estimator-id-2\" class=\"sk-toggleable__label sk-toggleable__label-arrow\">XGBRegressor</label><div class=\"sk-toggleable__content\"><pre>XGBRegressor(base_score=None, booster=None, callbacks=None,\n",
       "             colsample_bylevel=None, colsample_bynode=None,\n",
       "             colsample_bytree=None, early_stopping_rounds=None,\n",
       "             enable_categorical=False, eval_metric=None, feature_types=None,\n",
       "             gamma=2.0, gpu_id=None, grow_policy=None, importance_type=None,\n",
       "             interaction_constraints=None, learning_rate=None, max_bin=None,\n",
       "             max_cat_threshold=None, max_cat_to_onehot=None,\n",
       "             max_delta_step=None, max_depth=5, max_leaves=None,\n",
       "             min_child_weight=None, missing=nan, monotone_constraints=None,\n",
       "             n_estimators=200, n_jobs=None, num_parallel_tree=None,\n",
       "             predictor=None, random_state=None, ...)</pre></div></div></div></div></div></div></div>"
      ],
      "text/plain": [
       "Pipeline(steps=[('est',\n",
       "                 XGBRegressor(base_score=None, booster=None, callbacks=None,\n",
       "                              colsample_bylevel=None, colsample_bynode=None,\n",
       "                              colsample_bytree=None, early_stopping_rounds=None,\n",
       "                              enable_categorical=False, eval_metric=None,\n",
       "                              feature_types=None, gamma=2.0, gpu_id=None,\n",
       "                              grow_policy=None, importance_type=None,\n",
       "                              interaction_constraints=None, learning_rate=None,\n",
       "                              max_bin=None, max_cat_threshold=None,\n",
       "                              max_cat_to_onehot=None, max_delta_step=None,\n",
       "                              max_depth=5, max_leaves=None,\n",
       "                              min_child_weight=None, missing=nan,\n",
       "                              monotone_constraints=None, n_estimators=200,\n",
       "                              n_jobs=None, num_parallel_tree=None,\n",
       "                              predictor=None, random_state=None, ...))])"
      ]
     },
     "execution_count": 26,
     "metadata": {},
     "output_type": "execute_result"
    }
   ],
   "source": [
    "best_model"
   ]
  },
  {
   "attachments": {},
   "cell_type": "markdown",
   "metadata": {},
   "source": [
    "# Evaluation"
   ]
  },
  {
   "cell_type": "code",
   "execution_count": 27,
   "metadata": {},
   "outputs": [
    {
     "data": {
      "text/plain": [
       "19.120307787993283"
      ]
     },
     "execution_count": 27,
     "metadata": {},
     "output_type": "execute_result"
    }
   ],
   "source": [
    "from sklearn.metrics import mean_squared_error\n",
    "y_pred = clf.predict(X_eval)\n",
    "y_pred = postprocess_target(y_pred, **target_preprocessing_params)\n",
    "test_rmse = np.sqrt(mean_squared_error(y_true=y_eval, y_pred=y_pred))\n",
    "test_rmse"
   ]
  },
  {
   "cell_type": "code",
   "execution_count": 43,
   "metadata": {},
   "outputs": [
    {
     "data": {
      "text/plain": [
       "{\"{'est': XGBRegressor(base_score=None, booster=None, callbacks=None,\\n             colsample_bylevel=None, colsample_bynode=None,\\n             colsample_bytree=None, early_stopping_rounds=None,\\n             enable_categorical=False, eval_metric=None, feature_types=None,\\n             gamma=2.0, gpu_id=None, grow_policy=None, importance_type=None,\\n             interaction_constraints=None, learning_rate=None, max_bin=None,\\n             max_cat_threshold=None, max_cat_to_onehot=None,\\n             max_delta_step=None, max_depth=5, max_leaves=None,\\n             min_child_weight=None, missing=nan, monotone_constraints=None,\\n             n_estimators=200, n_jobs=None, num_parallel_tree=None,\\n             predictor=None, random_state=None, ...), 'est__gamma': 0.5, 'est__max_depth': 5, 'est__n_estimators': 100}\": 1.9718228699414022,\n",
       " \"{'est': XGBRegressor(base_score=None, booster=None, callbacks=None,\\n             colsample_bylevel=None, colsample_bynode=None,\\n             colsample_bytree=None, early_stopping_rounds=None,\\n             enable_categorical=False, eval_metric=None, feature_types=None,\\n             gamma=2.0, gpu_id=None, grow_policy=None, importance_type=None,\\n             interaction_constraints=None, learning_rate=None, max_bin=None,\\n             max_cat_threshold=None, max_cat_to_onehot=None,\\n             max_delta_step=None, max_depth=5, max_leaves=None,\\n             min_child_weight=None, missing=nan, monotone_constraints=None,\\n             n_estimators=200, n_jobs=None, num_parallel_tree=None,\\n             predictor=None, random_state=None, ...), 'est__gamma': 0.5, 'est__max_depth': 5, 'est__n_estimators': 200}\": 1.9594288246036777,\n",
       " \"{'est': XGBRegressor(base_score=None, booster=None, callbacks=None,\\n             colsample_bylevel=None, colsample_bynode=None,\\n             colsample_bytree=None, early_stopping_rounds=None,\\n             enable_categorical=False, eval_metric=None, feature_types=None,\\n             gamma=2.0, gpu_id=None, grow_policy=None, importance_type=None,\\n             interaction_constraints=None, learning_rate=None, max_bin=None,\\n             max_cat_threshold=None, max_cat_to_onehot=None,\\n             max_delta_step=None, max_depth=5, max_leaves=None,\\n             min_child_weight=None, missing=nan, monotone_constraints=None,\\n             n_estimators=200, n_jobs=None, num_parallel_tree=None,\\n             predictor=None, random_state=None, ...), 'est__gamma': 0.5, 'est__max_depth': 10, 'est__n_estimators': 100}\": 1.9848198166029527,\n",
       " \"{'est': XGBRegressor(base_score=None, booster=None, callbacks=None,\\n             colsample_bylevel=None, colsample_bynode=None,\\n             colsample_bytree=None, early_stopping_rounds=None,\\n             enable_categorical=False, eval_metric=None, feature_types=None,\\n             gamma=2.0, gpu_id=None, grow_policy=None, importance_type=None,\\n             interaction_constraints=None, learning_rate=None, max_bin=None,\\n             max_cat_threshold=None, max_cat_to_onehot=None,\\n             max_delta_step=None, max_depth=5, max_leaves=None,\\n             min_child_weight=None, missing=nan, monotone_constraints=None,\\n             n_estimators=200, n_jobs=None, num_parallel_tree=None,\\n             predictor=None, random_state=None, ...), 'est__gamma': 0.5, 'est__max_depth': 10, 'est__n_estimators': 200}\": 2.0322917259752487,\n",
       " \"{'est': XGBRegressor(base_score=None, booster=None, callbacks=None,\\n             colsample_bylevel=None, colsample_bynode=None,\\n             colsample_bytree=None, early_stopping_rounds=None,\\n             enable_categorical=False, eval_metric=None, feature_types=None,\\n             gamma=2.0, gpu_id=None, grow_policy=None, importance_type=None,\\n             interaction_constraints=None, learning_rate=None, max_bin=None,\\n             max_cat_threshold=None, max_cat_to_onehot=None,\\n             max_delta_step=None, max_depth=5, max_leaves=None,\\n             min_child_weight=None, missing=nan, monotone_constraints=None,\\n             n_estimators=200, n_jobs=None, num_parallel_tree=None,\\n             predictor=None, random_state=None, ...), 'est__gamma': 2.0, 'est__max_depth': 5, 'est__n_estimators': 100}\": 1.9699146201945723,\n",
       " \"{'est': XGBRegressor(base_score=None, booster=None, callbacks=None,\\n             colsample_bylevel=None, colsample_bynode=None,\\n             colsample_bytree=None, early_stopping_rounds=None,\\n             enable_categorical=False, eval_metric=None, feature_types=None,\\n             gamma=2.0, gpu_id=None, grow_policy=None, importance_type=None,\\n             interaction_constraints=None, learning_rate=None, max_bin=None,\\n             max_cat_threshold=None, max_cat_to_onehot=None,\\n             max_delta_step=None, max_depth=5, max_leaves=None,\\n             min_child_weight=None, missing=nan, monotone_constraints=None,\\n             n_estimators=200, n_jobs=None, num_parallel_tree=None,\\n             predictor=None, random_state=None, ...), 'est__gamma': 2.0, 'est__max_depth': 5, 'est__n_estimators': 200}\": 1.9585299326942145,\n",
       " \"{'est': XGBRegressor(base_score=None, booster=None, callbacks=None,\\n             colsample_bylevel=None, colsample_bynode=None,\\n             colsample_bytree=None, early_stopping_rounds=None,\\n             enable_categorical=False, eval_metric=None, feature_types=None,\\n             gamma=2.0, gpu_id=None, grow_policy=None, importance_type=None,\\n             interaction_constraints=None, learning_rate=None, max_bin=None,\\n             max_cat_threshold=None, max_cat_to_onehot=None,\\n             max_delta_step=None, max_depth=5, max_leaves=None,\\n             min_child_weight=None, missing=nan, monotone_constraints=None,\\n             n_estimators=200, n_jobs=None, num_parallel_tree=None,\\n             predictor=None, random_state=None, ...), 'est__gamma': 2.0, 'est__max_depth': 10, 'est__n_estimators': 100}\": 1.9835129229083197,\n",
       " \"{'est': XGBRegressor(base_score=None, booster=None, callbacks=None,\\n             colsample_bylevel=None, colsample_bynode=None,\\n             colsample_bytree=None, early_stopping_rounds=None,\\n             enable_categorical=False, eval_metric=None, feature_types=None,\\n             gamma=2.0, gpu_id=None, grow_policy=None, importance_type=None,\\n             interaction_constraints=None, learning_rate=None, max_bin=None,\\n             max_cat_threshold=None, max_cat_to_onehot=None,\\n             max_delta_step=None, max_depth=5, max_leaves=None,\\n             min_child_weight=None, missing=nan, monotone_constraints=None,\\n             n_estimators=200, n_jobs=None, num_parallel_tree=None,\\n             predictor=None, random_state=None, ...), 'est__gamma': 2.0, 'est__max_depth': 10, 'est__n_estimators': 200}\": 2.033461860679746,\n",
       " \"{'est': HuberRegressor(), 'est__alpha': 0.0001, 'est__epsilon': 5}\": 2.469304352763838,\n",
       " \"{'est': HuberRegressor(), 'est__alpha': 0.01, 'est__epsilon': 5}\": 2.4680052387055764,\n",
       " \"{'est': RandomForestRegressor(), 'est__min_samples_leaf': 100, 'est__n_estimators': 5}\": 2.0248539153823337,\n",
       " \"{'est': RandomForestRegressor(), 'est__min_samples_leaf': 100, 'est__n_estimators': 20}\": 2.0237418854348106,\n",
       " \"{'est': DummyRegressor(), 'est__strategy': 'median'}\": 4.344240352668116,\n",
       " \"{'est': DummyRegressor(), 'est__strategy': 'mean'}\": 4.041378696793788}"
      ]
     },
     "execution_count": 43,
     "metadata": {},
     "output_type": "execute_result"
    }
   ],
   "source": [
    "rmses = list(map(lambda neg_mse: np.sqrt(-neg_mse), clf.cv_results_['mean_test_score']))\n",
    "eval_rmse_per_params = {str(params): rmse for params, rmse in zip(clf.cv_results_['params'], rmses)}\n",
    "eval_rmse_per_params"
   ]
  },
  {
   "attachments": {},
   "cell_type": "markdown",
   "metadata": {},
   "source": [
    "# Generate Predictions"
   ]
  },
  {
   "cell_type": "code",
   "execution_count": 29,
   "metadata": {},
   "outputs": [],
   "source": [
    "y_test_pred = best_model.predict(test_df)"
   ]
  },
  {
   "cell_type": "code",
   "execution_count": 30,
   "metadata": {},
   "outputs": [],
   "source": [
    "\n",
    "\n",
    "from datetime import datetime\n",
    "from uuid import uuid4\n",
    "import json\n",
    "\n",
    "now = datetime.now()\n",
    "current_time = now.strftime(\"%H-%M-%S\")\n",
    "experiment_id = f\"{str(uuid4())}-{current_time}\"\n",
    "\n",
    "# save preds\n",
    "results_df = test_df.copy()\n",
    "results_df['winBid_pred'] = y_test_pred\n",
    "results_df.to_csv(f\"{experiment_id}-predictions.csv\")"
   ]
  }
 ],
 "metadata": {
  "kernelspec": {
   "display_name": "Python 3",
   "language": "python",
   "name": "python3"
  },
  "language_info": {
   "codemirror_mode": {
    "name": "ipython",
    "version": 3
   },
   "file_extension": ".py",
   "mimetype": "text/x-python",
   "name": "python",
   "nbconvert_exporter": "python",
   "pygments_lexer": "ipython3",
   "version": "3.10.11"
  },
  "orig_nbformat": 4
 },
 "nbformat": 4,
 "nbformat_minor": 2
}
